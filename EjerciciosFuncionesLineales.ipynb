{
  "nbformat": 4,
  "nbformat_minor": 0,
  "metadata": {
    "colab": {
      "provenance": [],
      "authorship_tag": "ABX9TyMunxwT9oMO8kkanF5RZrWH",
      "include_colab_link": true
    },
    "kernelspec": {
      "name": "python3",
      "display_name": "Python 3"
    },
    "language_info": {
      "name": "python"
    }
  },
  "cells": [
    {
      "cell_type": "markdown",
      "metadata": {
        "id": "view-in-github",
        "colab_type": "text"
      },
      "source": [
        "<a href=\"https://colab.research.google.com/github/GustavoElMaximo/FuncionesMatematicas_DS_IA/blob/main/EjerciciosFuncionesLineales.ipynb\" target=\"_parent\"><img src=\"https://colab.research.google.com/assets/colab-badge.svg\" alt=\"Open In Colab\"/></a>"
      ]
    },
    {
      "cell_type": "code",
      "execution_count": 6,
      "metadata": {
        "id": "7dAJnfZUXvnz"
      },
      "outputs": [],
      "source": [
        "import matplotlib.pyplot as plt   #librería para hacer graficos\n",
        "import numpy as np                #librería para manejo de vectores y utilidades matemáticas"
      ]
    },
    {
      "cell_type": "code",
      "source": [
        "N = 100 #número de puntos/particiones de la gráfica\n",
        "\n",
        "m = 10 # pendiente\n",
        "b = 25 # punto de corte en el eje y\n",
        "\n",
        "def f(x):\n",
        "  return m*x+b\n",
        "\n",
        "x = np.linspace(-10,10, num=N)\n",
        "\n",
        "y = f(x)\n",
        "\n",
        "fig, ax = plt.subplots() #ax es el eje. Así que hay una figura y un eje\n",
        "ax.plot(x,y) # grafica\n",
        "ax.grid()  # añadimos las cuadridulas"
      ],
      "metadata": {
        "colab": {
          "base_uri": "https://localhost:8080/",
          "height": 265
        },
        "id": "ejQbrfwvYLdI",
        "outputId": "c2481dee-23bf-446f-ed66-ee58eadc4984"
      },
      "execution_count": 11,
      "outputs": [
        {
          "output_type": "display_data",
          "data": {
            "text/plain": [
              "<Figure size 432x288 with 1 Axes>"
            ],
            "image/png": "[encoded data removed]"
          },
          "metadata": {
            "needs_background": "light"
          }
        }
      ]
    }
  ]
}