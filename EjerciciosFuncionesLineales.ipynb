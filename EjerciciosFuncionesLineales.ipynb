{
  "nbformat": 4,
  "nbformat_minor": 0,
  "metadata": {
    "colab": {
      "provenance": [],
      "authorship_tag": "ABX9TyPElCOsEOe4FHORpX8z4BDA",
      "include_colab_link": true
    },
    "kernelspec": {
      "name": "python3",
      "display_name": "Python 3"
    },
    "language_info": {
      "name": "python"
    }
  },
  "cells": [
    {
      "cell_type": "markdown",
      "metadata": {
        "id": "view-in-github",
        "colab_type": "text"
      },
      "source": [
        "<a href=\"https://colab.research.google.com/github/GustavoElMaximo/FuncionesMatematicas_DS_IA/blob/main/EjerciciosFuncionesLineales.ipynb\" target=\"_parent\"><img src=\"https://colab.research.google.com/assets/colab-badge.svg\" alt=\"Open In Colab\"/></a>"
      ]
    },
    {
      "cell_type": "markdown",
      "source": [
        "# Funciones algebraicas lineales"
      ],
      "metadata": {
        "id": "aMfHYeOz1kAB"
      }
    },
    {
      "cell_type": "code",
      "execution_count": null,
      "metadata": {
        "id": "7dAJnfZUXvnz"
      },
      "outputs": [],
      "source": [
        "import matplotlib.pyplot as plt   #librería para hacer graficos\n",
        "import numpy as np                #librería para manejo de vectores y utilidades matemáticas"
      ]
    },
    {
      "cell_type": "code",
      "source": [
        "N = 100 #número de puntos/particiones de la gráfica\n",
        "\n",
        "m = 10 # pendiente\n",
        "b = 25 # punto de corte en el eje y\n",
        "\n",
        "def f(x):\n",
        "  return m*x+b\n",
        "\n",
        "x = np.linspace(-10,10, num=N)\n",
        "# print(x)\n",
        "\n",
        "y = f(x)\n",
        "\n",
        "fig, ax = plt.subplots() #ax es el eje. Así que hay una figura y un eje\n",
        "ax.plot(x,y) # grafica\n",
        "ax.grid()  # añadimos las cuadridulas"
      ],
      "metadata": {
        "colab": {
          "base_uri": "https://localhost:8080/",
          "height": 265
        },
        "id": "ejQbrfwvYLdI",
        "outputId": "1679bf2d-8de5-4567-fbc7-faeb5fe9f982"
      },
      "execution_count": 16,
      "outputs": [
        {
          "output_type": "display_data",
          "data": {
            "text/plain": [
              "<Figure size 432x288 with 1 Axes>"
            ],
            "image/png": "[encoded data removed]"
          },
          "metadata": {
            "needs_background": "light"
          }
        }
      ]
    },
    {
      "cell_type": "markdown",
      "source": [
        "# Funciones algebraicas polimónicas"
      ],
      "metadata": {
        "id": "v5x8l4cK0u9R"
      }
    },
    {
      "cell_type": "markdown",
      "metadata": {
        "id": "FflFWNqjJCuO"
      },
      "source": [
        "### Funciones polinómicas\n",
        "\n",
        "Tiene la forma de $$P(x)=a_{n}x^{n} + a_{n-1}x^{n-1}+...+a_{2}x^{2}+a_{1}x + a_{1}$$\n",
        "\n",
        "a una función que tiene esta forma se le llama polinomio de grado $n$. A los elementos $a$ los llamaremos coeficientes donde $a \\in R$. \n",
        "\n",
        "**Por ejemplo:**\n",
        "\n",
        "$$P(x)= 2x^{7} - x^{4} + 3x^{2} + 4$$\n",
        "\n",
        "que es un polinomio de grado 7.\n",
        "\n",
        "\n",
        "### Funciones potencia\n",
        "\n",
        "Hay unas funciones que son un caso particular de las funciones polinómicas que son las funciones potencia, las cuales tienen la forma:\n",
        "\n",
        "\n",
        "$$f(x)= x^{a}, a \\in R$$ \n",
        "\n",
        "\n",
        "**Por ejemplo:**\n",
        "\n",
        "$$f(x)= x^{2}$$\n",
        "\n",
        "El dominio de $f(x)=x^{2}$ es $Dom_{f} = (-\\infty, \\infty)$. Su imagen es $Im_{f} = [0, \\infty)$\n",
        "\n",
        "\n",
        "\n"
      ]
    },
    {
      "cell_type": "code",
      "source": [
        "def f(x):\n",
        "  return (2*x**7)-(x**4)+(3*x**2)+4\n",
        "\n",
        "y = f(x) # la x está definida en el ejercicio anterior\n",
        "\n",
        "plt.plot(x,y)\n",
        "plt.grid()"
      ],
      "metadata": {
        "colab": {
          "base_uri": "https://localhost:8080/",
          "height": 276
        },
        "id": "rZRUfuEZ1uxz",
        "outputId": "3a4c6449-a55d-481d-bb65-d94e4c8c75b2"
      },
      "execution_count": 31,
      "outputs": [
        {
          "output_type": "display_data",
          "data": {
            "text/plain": [
              "<Figure size 432x288 with 1 Axes>"
            ],
            "image/png": "[encoded data removed]"
          },
          "metadata": {
            "needs_background": "light"
          }
        }
      ]
    }
  ]
}